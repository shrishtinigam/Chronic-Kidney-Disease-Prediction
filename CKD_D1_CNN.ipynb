{
  "nbformat": 4,
  "nbformat_minor": 0,
  "metadata": {
    "colab": {
      "name": "CKD_D1_CNN.ipynb",
      "provenance": [],
      "collapsed_sections": [],
      "include_colab_link": true
    },
    "kernelspec": {
      "name": "python3",
      "display_name": "Python 3"
    },
    "language_info": {
      "name": "python"
    }
  },
  "cells": [
    {
      "cell_type": "markdown",
      "metadata": {
        "id": "view-in-github",
        "colab_type": "text"
      },
      "source": [
        "<a href=\"https://colab.research.google.com/github/shrishtinigam/Chronic-Kidney-Disease-Prediction/blob/main/CKD_D1_CNN.ipynb\" target=\"_parent\"><img src=\"https://colab.research.google.com/assets/colab-badge.svg\" alt=\"Open In Colab\"/></a>"
      ]
    },
    {
      "cell_type": "markdown",
      "source": [
        "new_model dataset"
      ],
      "metadata": {
        "id": "KEzXZyiSmZ5Q"
      }
    },
    {
      "cell_type": "code",
      "execution_count": null,
      "metadata": {
        "colab": {
          "base_uri": "https://localhost:8080/"
        },
        "id": "teZVQpD1Zryt",
        "outputId": "05550f6a-26d0-4aef-f906-f9d9c0dacb76"
      },
      "outputs": [
        {
          "output_type": "stream",
          "name": "stdout",
          "text": [
            "Requirement already satisfied: tensorflow in /usr/local/lib/python3.7/dist-packages (2.8.0)\n",
            "Requirement already satisfied: typing-extensions>=3.6.6 in /usr/local/lib/python3.7/dist-packages (from tensorflow) (4.2.0)\n",
            "Requirement already satisfied: protobuf>=3.9.2 in /usr/local/lib/python3.7/dist-packages (from tensorflow) (3.17.3)\n",
            "Requirement already satisfied: setuptools in /usr/local/lib/python3.7/dist-packages (from tensorflow) (57.4.0)\n",
            "Requirement already satisfied: numpy>=1.20 in /usr/local/lib/python3.7/dist-packages (from tensorflow) (1.21.6)\n",
            "Requirement already satisfied: termcolor>=1.1.0 in /usr/local/lib/python3.7/dist-packages (from tensorflow) (1.1.0)\n",
            "Requirement already satisfied: keras<2.9,>=2.8.0rc0 in /usr/local/lib/python3.7/dist-packages (from tensorflow) (2.8.0)\n",
            "Requirement already satisfied: keras-preprocessing>=1.1.1 in /usr/local/lib/python3.7/dist-packages (from tensorflow) (1.1.2)\n",
            "Requirement already satisfied: tf-estimator-nightly==2.8.0.dev2021122109 in /usr/local/lib/python3.7/dist-packages (from tensorflow) (2.8.0.dev2021122109)\n",
            "Requirement already satisfied: tensorboard<2.9,>=2.8 in /usr/local/lib/python3.7/dist-packages (from tensorflow) (2.8.0)\n",
            "Requirement already satisfied: h5py>=2.9.0 in /usr/local/lib/python3.7/dist-packages (from tensorflow) (3.1.0)\n",
            "Requirement already satisfied: astunparse>=1.6.0 in /usr/local/lib/python3.7/dist-packages (from tensorflow) (1.6.3)\n",
            "Requirement already satisfied: libclang>=9.0.1 in /usr/local/lib/python3.7/dist-packages (from tensorflow) (13.0.0)\n",
            "Requirement already satisfied: tensorflow-io-gcs-filesystem>=0.23.1 in /usr/local/lib/python3.7/dist-packages (from tensorflow) (0.24.0)\n",
            "Requirement already satisfied: flatbuffers>=1.12 in /usr/local/lib/python3.7/dist-packages (from tensorflow) (2.0)\n",
            "Requirement already satisfied: absl-py>=0.4.0 in /usr/local/lib/python3.7/dist-packages (from tensorflow) (1.0.0)\n",
            "Requirement already satisfied: wrapt>=1.11.0 in /usr/local/lib/python3.7/dist-packages (from tensorflow) (1.14.0)\n",
            "Requirement already satisfied: opt-einsum>=2.3.2 in /usr/local/lib/python3.7/dist-packages (from tensorflow) (3.3.0)\n",
            "Requirement already satisfied: google-pasta>=0.1.1 in /usr/local/lib/python3.7/dist-packages (from tensorflow) (0.2.0)\n",
            "Requirement already satisfied: six>=1.12.0 in /usr/local/lib/python3.7/dist-packages (from tensorflow) (1.15.0)\n",
            "Requirement already satisfied: grpcio<2.0,>=1.24.3 in /usr/local/lib/python3.7/dist-packages (from tensorflow) (1.44.0)\n",
            "Requirement already satisfied: gast>=0.2.1 in /usr/local/lib/python3.7/dist-packages (from tensorflow) (0.5.3)\n",
            "Requirement already satisfied: wheel<1.0,>=0.23.0 in /usr/local/lib/python3.7/dist-packages (from astunparse>=1.6.0->tensorflow) (0.37.1)\n",
            "Requirement already satisfied: cached-property in /usr/local/lib/python3.7/dist-packages (from h5py>=2.9.0->tensorflow) (1.5.2)\n",
            "Requirement already satisfied: tensorboard-plugin-wit>=1.6.0 in /usr/local/lib/python3.7/dist-packages (from tensorboard<2.9,>=2.8->tensorflow) (1.8.1)\n",
            "Requirement already satisfied: requests<3,>=2.21.0 in /usr/local/lib/python3.7/dist-packages (from tensorboard<2.9,>=2.8->tensorflow) (2.23.0)\n",
            "Requirement already satisfied: markdown>=2.6.8 in /usr/local/lib/python3.7/dist-packages (from tensorboard<2.9,>=2.8->tensorflow) (3.3.6)\n",
            "Requirement already satisfied: werkzeug>=0.11.15 in /usr/local/lib/python3.7/dist-packages (from tensorboard<2.9,>=2.8->tensorflow) (1.0.1)\n",
            "Requirement already satisfied: google-auth<3,>=1.6.3 in /usr/local/lib/python3.7/dist-packages (from tensorboard<2.9,>=2.8->tensorflow) (1.35.0)\n",
            "Requirement already satisfied: tensorboard-data-server<0.7.0,>=0.6.0 in /usr/local/lib/python3.7/dist-packages (from tensorboard<2.9,>=2.8->tensorflow) (0.6.1)\n",
            "Requirement already satisfied: google-auth-oauthlib<0.5,>=0.4.1 in /usr/local/lib/python3.7/dist-packages (from tensorboard<2.9,>=2.8->tensorflow) (0.4.6)\n",
            "Requirement already satisfied: pyasn1-modules>=0.2.1 in /usr/local/lib/python3.7/dist-packages (from google-auth<3,>=1.6.3->tensorboard<2.9,>=2.8->tensorflow) (0.2.8)\n",
            "Requirement already satisfied: rsa<5,>=3.1.4 in /usr/local/lib/python3.7/dist-packages (from google-auth<3,>=1.6.3->tensorboard<2.9,>=2.8->tensorflow) (4.8)\n",
            "Requirement already satisfied: cachetools<5.0,>=2.0.0 in /usr/local/lib/python3.7/dist-packages (from google-auth<3,>=1.6.3->tensorboard<2.9,>=2.8->tensorflow) (4.2.4)\n",
            "Requirement already satisfied: requests-oauthlib>=0.7.0 in /usr/local/lib/python3.7/dist-packages (from google-auth-oauthlib<0.5,>=0.4.1->tensorboard<2.9,>=2.8->tensorflow) (1.3.1)\n",
            "Requirement already satisfied: importlib-metadata>=4.4 in /usr/local/lib/python3.7/dist-packages (from markdown>=2.6.8->tensorboard<2.9,>=2.8->tensorflow) (4.11.3)\n",
            "Requirement already satisfied: zipp>=0.5 in /usr/local/lib/python3.7/dist-packages (from importlib-metadata>=4.4->markdown>=2.6.8->tensorboard<2.9,>=2.8->tensorflow) (3.8.0)\n",
            "Requirement already satisfied: pyasn1<0.5.0,>=0.4.6 in /usr/local/lib/python3.7/dist-packages (from pyasn1-modules>=0.2.1->google-auth<3,>=1.6.3->tensorboard<2.9,>=2.8->tensorflow) (0.4.8)\n",
            "Requirement already satisfied: chardet<4,>=3.0.2 in /usr/local/lib/python3.7/dist-packages (from requests<3,>=2.21.0->tensorboard<2.9,>=2.8->tensorflow) (3.0.4)\n",
            "Requirement already satisfied: idna<3,>=2.5 in /usr/local/lib/python3.7/dist-packages (from requests<3,>=2.21.0->tensorboard<2.9,>=2.8->tensorflow) (2.10)\n",
            "Requirement already satisfied: certifi>=2017.4.17 in /usr/local/lib/python3.7/dist-packages (from requests<3,>=2.21.0->tensorboard<2.9,>=2.8->tensorflow) (2021.10.8)\n",
            "Requirement already satisfied: urllib3!=1.25.0,!=1.25.1,<1.26,>=1.21.1 in /usr/local/lib/python3.7/dist-packages (from requests<3,>=2.21.0->tensorboard<2.9,>=2.8->tensorflow) (1.24.3)\n",
            "Requirement already satisfied: oauthlib>=3.0.0 in /usr/local/lib/python3.7/dist-packages (from requests-oauthlib>=0.7.0->google-auth-oauthlib<0.5,>=0.4.1->tensorboard<2.9,>=2.8->tensorflow) (3.2.0)\n"
          ]
        }
      ],
      "source": [
        "pip install tensorflow"
      ]
    },
    {
      "cell_type": "code",
      "source": [
        "! wget /content/kidney_disease_train.csv"
      ],
      "metadata": {
        "colab": {
          "base_uri": "https://localhost:8080/"
        },
        "id": "xVY0zKuFdrsm",
        "outputId": "885b9033-8546-4ef9-83fd-f4845b3148bb"
      },
      "execution_count": null,
      "outputs": [
        {
          "output_type": "stream",
          "name": "stdout",
          "text": [
            "/content/kidney_disease_train.csv: Scheme missing.\n"
          ]
        }
      ]
    },
    {
      "cell_type": "code",
      "source": [
        "! head new_model.csv"
      ],
      "metadata": {
        "colab": {
          "base_uri": "https://localhost:8080/"
        },
        "id": "iFMxzBHUdvbe",
        "outputId": "3298fabf-28e5-47de-dd9e-fbb5259f1f74"
      },
      "execution_count": null,
      "outputs": [
        {
          "output_type": "stream",
          "name": "stdout",
          "text": [
            "Bp,Sg,Al,Su,Rbc,Bu,Sc,Sod,Pot,Hemo,Wbcc,Rbcc,Htn,Class\r\n",
            "80,1.02,1,0,1,36,1.2,137.53,4.63,15.4,7800,5.2,1,1\r\n",
            "50,1.02,4,0,1,18,0.8,137.53,4.63,11.3,6000,4.71,0,1\r\n",
            "80,1.01,2,3,1,53,1.8,137.53,4.63,9.6,7500,4.71,0,1\r\n",
            "70,1.005,4,0,1,56,3.8,111,2.5,11.2,6700,3.9,1,1\r\n",
            "80,1.01,2,0,1,26,1.4,137.53,4.63,11.6,7300,4.6,0,1\r\n",
            "90,1.015,3,0,1,25,1.1,142,3.2,12.2,7800,4.4,1,1\r\n",
            "70,1.01,0,0,1,54,24,104,4,12.4,8406,4.71,0,1\r\n",
            "76,1.015,2,4,1,31,1.1,137.53,4.63,12.4,6900,5,0,1\r\n",
            "100,1.015,3,0,1,60,1.9,137.53,4.63,10.8,9600,4,1,1\r\n"
          ]
        }
      ]
    },
    {
      "cell_type": "code",
      "source": [
        "import numpy as np\n",
        "import pandas as pd\n",
        "import matplotlib.pyplot as plt\n"
      ],
      "metadata": {
        "id": "RGOBCMDSxjzY"
      },
      "execution_count": null,
      "outputs": []
    },
    {
      "cell_type": "code",
      "source": [
        "dataset = np.loadtxt('new_model.csv',delimiter=',',skiprows=1)\n",
        "dataset_pd = pd.read_csv('new_model.csv')\n",
        "# Shuffling data\n",
        "# np.random.shuffle(dataset)"
      ],
      "metadata": {
        "id": "kQipqM8qxm9o"
      },
      "execution_count": null,
      "outputs": []
    },
    {
      "cell_type": "markdown",
      "source": [
        "# Exploratory Data Analysis "
      ],
      "metadata": {
        "id": "slhYcYpbBTxp"
      }
    },
    {
      "cell_type": "code",
      "source": [
        "print(dataset.shape)"
      ],
      "metadata": {
        "colab": {
          "base_uri": "https://localhost:8080/"
        },
        "id": "we65RzuMAn4_",
        "outputId": "d9013d84-a312-448c-961f-2e26e4cf0ada"
      },
      "execution_count": null,
      "outputs": [
        {
          "output_type": "stream",
          "name": "stdout",
          "text": [
            "(400, 14)\n"
          ]
        }
      ]
    },
    {
      "cell_type": "code",
      "source": [
        "fig = plt.figure(figsize =(10, 7))\n",
        "blood_pressure = dataset[:,0]\n",
        "specific_gravity_urine = dataset[:,1]\n",
        "albumin = dataset[:,2]\n",
        "sugar = dataset[:,3]\n",
        "red_blood_cells = dataset[:,4] # presence of rbc's\n",
        "blood_urea = dataset[:,5]\n",
        "serum_creatinine = dataset[:,6]\n",
        "sodium = dataset[:,7]\n",
        "potassium = dataset[:,8]\n",
        "hemoglobin = dataset[:,9]\n",
        "white_blood_cell_count = dataset[:,10]\n",
        "red_blood_cell_count = dataset[:,11]\n",
        "hypertension = dataset[:,12]"
      ],
      "metadata": {
        "colab": {
          "base_uri": "https://localhost:8080/",
          "height": 34
        },
        "id": "09F9C4Ou1bZ8",
        "outputId": "71046f47-ab3e-44bc-cab3-1bffcd843f33"
      },
      "execution_count": null,
      "outputs": [
        {
          "output_type": "display_data",
          "data": {
            "text/plain": [
              "<Figure size 720x504 with 0 Axes>"
            ]
          },
          "metadata": {}
        }
      ]
    },
    {
      "cell_type": "code",
      "source": [
        "plt.boxplot(blood_pressure)\n",
        "print(\"Blood Pressure\")"
      ],
      "metadata": {
        "colab": {
          "base_uri": "https://localhost:8080/",
          "height": 282
        },
        "id": "t7VlACpsFA7_",
        "outputId": "1099ddd8-cd6b-45a1-bf89-d3a77188b020"
      },
      "execution_count": null,
      "outputs": [
        {
          "output_type": "stream",
          "name": "stdout",
          "text": [
            "Blood Pressure\n"
          ]
        },
        {
          "output_type": "display_data",
          "data": {
            "text/plain": [
              "<Figure size 432x288 with 1 Axes>"
            ],
            "image/png": "[encoded data removed]"
          },
          "metadata": {
            "needs_background": "light"
          }
        }
      ]
    },
    {
      "cell_type": "code",
      "source": [
        "plt.boxplot(specific_gravity_urine)\n",
        "print(\"Specific Gravity of Urine\")"
      ],
      "metadata": {
        "colab": {
          "base_uri": "https://localhost:8080/",
          "height": 282
        },
        "id": "6VYafaUMFBii",
        "outputId": "c862447d-3e92-4618-9bad-d53751caed75"
      },
      "execution_count": null,
      "outputs": [
        {
          "output_type": "stream",
          "name": "stdout",
          "text": [
            "Specific Gravity of Urine\n"
          ]
        },
        {
          "output_type": "display_data",
          "data": {
            "text/plain": [
              "<Figure size 432x288 with 1 Axes>"
            ],
            "image/png": "[encoded data removed]"
          },
          "metadata": {
            "needs_background": "light"
          }
        }
      ]
    },
    {
      "cell_type": "code",
      "source": [
        "plt.boxplot(albumin)\n",
        "print(\"Albumin\")"
      ],
      "metadata": {
        "colab": {
          "base_uri": "https://localhost:8080/",
          "height": 282
        },
        "id": "i9VnSGlVFBof",
        "outputId": "62f8ea3c-74fc-4dae-d3cb-780bd2e81b48"
      },
      "execution_count": null,
      "outputs": [
        {
          "output_type": "stream",
          "name": "stdout",
          "text": [
            "Albumin\n"
          ]
        },
        {
          "output_type": "display_data",
          "data": {
            "text/plain": [
              "<Figure size 432x288 with 1 Axes>"
            ],
            "image/png": "[encoded data removed]"
          },
          "metadata": {
            "needs_background": "light"
          }
        }
      ]
    },
    {
      "cell_type": "code",
      "source": [
        "# We can visulize the box plots for all attributes \n",
        "\"\"\"\n",
        "plt.boxplot(sugar)\n",
        "plt.boxplot(red_blood_cells)\n",
        "plt.boxplot(blood_urea)\n",
        "\"\"\"\n",
        "# We can visulaize the histograms for all attributes\n",
        "plt.hist(blood_pressure)\n",
        "\"\"\"\n",
        "plt.hist(albumin)\n",
        "plt.hist(specific_gravity_urine)\n",
        "\"\"\""
      ],
      "metadata": {
        "id": "ZzPpzPaSFYr2",
        "colab": {
          "base_uri": "https://localhost:8080/",
          "height": 285
        },
        "outputId": "be1aadc5-f67e-4c32-cfe5-573a8eb07d57"
      },
      "execution_count": null,
      "outputs": [
        {
          "output_type": "execute_result",
          "data": {
            "text/plain": [
              "'\\nplt.hist(albumin)\\nplt.hist(specific_gravity_urine)\\n'"
            ],
            "application/vnd.google.colaboratory.intrinsic+json": {
              "type": "string"
            }
          },
          "metadata": {},
          "execution_count": 16
        },
        {
          "output_type": "display_data",
          "data": {
            "text/plain": [
              "<Figure size 432x288 with 1 Axes>"
            ],
            "image/png": "[encoded data removed]"
          },
          "metadata": {
            "needs_background": "light"
          }
        }
      ]
    },
    {
      "cell_type": "code",
      "source": [
        "dataset_pd.isnull().sum()"
      ],
      "metadata": {
        "colab": {
          "base_uri": "https://localhost:8080/"
        },
        "id": "T5o5juCvq_K-",
        "outputId": "88404a82-ce43-4d95-86ca-cb04713bb76b"
      },
      "execution_count": null,
      "outputs": [
        {
          "output_type": "execute_result",
          "data": {
            "text/plain": [
              "Bp       0\n",
              "Sg       0\n",
              "Al       0\n",
              "Su       0\n",
              "Rbc      0\n",
              "Bu       0\n",
              "Sc       0\n",
              "Sod      0\n",
              "Pot      0\n",
              "Hemo     0\n",
              "Wbcc     0\n",
              "Rbcc     0\n",
              "Htn      0\n",
              "Class    0\n",
              "dtype: int64"
            ]
          },
          "metadata": {},
          "execution_count": 17
        }
      ]
    },
    {
      "cell_type": "code",
      "source": [
        "# Rows that have identical data are probably useless, if not dangerously misleading during model evaluation.\n",
        "duplicates = dataset_pd.duplicated()\n",
        "duplicates.sum()"
      ],
      "metadata": {
        "colab": {
          "base_uri": "https://localhost:8080/"
        },
        "id": "JMKTl0L9viEa",
        "outputId": "a8ecc509-7400-4485-ac6e-6a28109ae329"
      },
      "execution_count": null,
      "outputs": [
        {
          "output_type": "execute_result",
          "data": {
            "text/plain": [
              "0"
            ]
          },
          "metadata": {},
          "execution_count": 18
        }
      ]
    },
    {
      "cell_type": "code",
      "source": [
        "print(dataset_pd)"
      ],
      "metadata": {
        "colab": {
          "base_uri": "https://localhost:8080/"
        },
        "id": "s4FMPwx2v5Zc",
        "outputId": "45e8e3ef-9882-4604-e737-4ed15f5feae2"
      },
      "execution_count": null,
      "outputs": [
        {
          "output_type": "stream",
          "name": "stdout",
          "text": [
            "     Bp     Sg  Al  Su  Rbc    Bu   Sc     Sod   Pot  Hemo  Wbcc  Rbcc  Htn  \\\n",
            "0    80  1.020   1   0    1  36.0  1.2  137.53  4.63  15.4  7800  5.20  1.0   \n",
            "1    50  1.020   4   0    1  18.0  0.8  137.53  4.63  11.3  6000  4.71  0.0   \n",
            "2    80  1.010   2   3    1  53.0  1.8  137.53  4.63   9.6  7500  4.71  0.0   \n",
            "3    70  1.005   4   0    1  56.0  3.8  111.00  2.50  11.2  6700  3.90  1.0   \n",
            "4    80  1.010   2   0    1  26.0  1.4  137.53  4.63  11.6  7300  4.60  0.0   \n",
            "..   ..    ...  ..  ..  ...   ...  ...     ...   ...   ...   ...   ...  ...   \n",
            "395  80  1.020   0   0    1  49.0  0.5  150.00  4.90  15.7  6700  4.90  0.0   \n",
            "396  70  1.025   0   0    1  31.0  1.2  141.00  3.50  16.5  7800  6.20  0.0   \n",
            "397  80  1.020   0   0    1  26.0  0.6  137.00  4.40  15.8  6600  5.40  0.0   \n",
            "398  60  1.025   0   0    1  50.0  1.0  135.00  4.90  14.2  7200  5.90  0.0   \n",
            "399  80  1.025   0   0    1  18.0  1.1  141.00  3.50  15.8  6800  6.10  0.0   \n",
            "\n",
            "     Class  \n",
            "0        1  \n",
            "1        1  \n",
            "2        1  \n",
            "3        1  \n",
            "4        1  \n",
            "..     ...  \n",
            "395      0  \n",
            "396      0  \n",
            "397      0  \n",
            "398      0  \n",
            "399      0  \n",
            "\n",
            "[400 rows x 14 columns]\n"
          ]
        }
      ]
    },
    {
      "cell_type": "code",
      "source": [
        "df_num = dataset_pd[['Bp','Sg','Al','Su','Rbc','Bu','Sc','Sod','Pot','Hemo','Wbcc','Rbcc','Htn']]\n",
        "df_num.corr()"
      ],
      "metadata": {
        "colab": {
          "base_uri": "https://localhost:8080/",
          "height": 457
        },
        "id": "XrgHngkxx0Ts",
        "outputId": "2fbc6e65-0ce7-41c8-ec77-e94c4855d3ec"
      },
      "execution_count": null,
      "outputs": [
        {
          "output_type": "execute_result",
          "data": {
            "text/plain": [
              "            Bp        Sg        Al        Su       Rbc        Bu        Sc  \\\n",
              "Bp    1.000000 -0.164057  0.146060  0.190277 -0.151478  0.184173  0.144469   \n",
              "Sg   -0.164057  1.000000 -0.460835 -0.292053  0.253894 -0.249263 -0.176141   \n",
              "Al    0.146060 -0.460835  1.000000  0.262564 -0.374484  0.405035  0.229396   \n",
              "Su    0.190277 -0.292053  0.262564  1.000000 -0.092940  0.126074  0.094568   \n",
              "Rbc  -0.151478  0.253894 -0.374484 -0.092940  1.000000 -0.236270 -0.138391   \n",
              "Bu    0.184173 -0.249263  0.405035  0.126074 -0.236270  1.000000  0.581176   \n",
              "Sc    0.144469 -0.176141  0.229396  0.094568 -0.138391  0.581176  1.000000   \n",
              "Sod  -0.103383  0.217456 -0.270709 -0.053448  0.140568 -0.307357 -0.624493   \n",
              "Pot   0.066791 -0.063450  0.114484  0.180098  0.018164  0.336954  0.205361   \n",
              "Hemo -0.279441  0.492103 -0.548681 -0.156875  0.280991 -0.540699 -0.342053   \n",
              "Wbcc  0.025963 -0.206880  0.200664  0.159033 -0.002205  0.041530 -0.005420   \n",
              "Rbcc -0.220827  0.443437 -0.454131 -0.163825  0.202298 -0.465947 -0.323056   \n",
              "Htn   0.268003 -0.318956  0.478309  0.253179 -0.139342  0.387503  0.273904   \n",
              "\n",
              "           Sod       Pot      Hemo      Wbcc      Rbcc       Htn  \n",
              "Bp   -0.103383  0.066791 -0.279441  0.025963 -0.220827  0.268003  \n",
              "Sg    0.217456 -0.063450  0.492103 -0.206880  0.443437 -0.318956  \n",
              "Al   -0.270709  0.114484 -0.548681  0.200664 -0.454131  0.478309  \n",
              "Su   -0.053448  0.180098 -0.156875  0.159033 -0.163825  0.253179  \n",
              "Rbc   0.140568  0.018164  0.280991 -0.002205  0.202298 -0.139342  \n",
              "Bu   -0.307357  0.336954 -0.540699  0.041530 -0.465947  0.387503  \n",
              "Sc   -0.624493  0.205361 -0.342053 -0.005420 -0.323056  0.273904  \n",
              "Sod   1.000000  0.067414  0.333604  0.006334  0.316883 -0.306501  \n",
              "Pot   0.067414  1.000000 -0.100612 -0.074057 -0.120418  0.057028  \n",
              "Hemo  0.333604 -0.100612  1.000000 -0.153806  0.681864 -0.576932  \n",
              "Wbcc  0.006334 -0.074057 -0.153806  1.000000 -0.151380  0.123790  \n",
              "Rbcc  0.316883 -0.120418  0.681864 -0.151380  1.000000 -0.527051  \n",
              "Htn  -0.306501  0.057028 -0.576932  0.123790 -0.527051  1.000000  "
            ],
            "text/html": [
              "\n",
              "  <div id=\"df-25e0a480-cd9b-48f0-a787-41aab3d26198\">\n",
              "    <div class=\"colab-df-container\">\n",
              "      <div>\n",
              "<style scoped>\n",
              "    .dataframe tbody tr th:only-of-type {\n",
              "        vertical-align: middle;\n",
              "    }\n",
              "\n",
              "    .dataframe tbody tr th {\n",
              "        vertical-align: top;\n",
              "    }\n",
              "\n",
              "    .dataframe thead th {\n",
              "        text-align: right;\n",
              "    }\n",
              "</style>\n",
              "<table border=\"1\" class=\"dataframe\">\n",
              "  <thead>\n",
              "    <tr style=\"text-align: right;\">\n",
              "      <th></th>\n",
              "      <th>Bp</th>\n",
              "      <th>Sg</th>\n",
              "      <th>Al</th>\n",
              "      <th>Su</th>\n",
              "      <th>Rbc</th>\n",
              "      <th>Bu</th>\n",
              "      <th>Sc</th>\n",
              "      <th>Sod</th>\n",
              "      <th>Pot</th>\n",
              "      <th>Hemo</th>\n",
              "      <th>Wbcc</th>\n",
              "      <th>Rbcc</th>\n",
              "      <th>Htn</th>\n",
              "    </tr>\n",
              "  </thead>\n",
              "  <tbody>\n",
              "    <tr>\n",
              "      <th>Bp</th>\n",
              "      <td>1.000000</td>\n",
              "      <td>-0.164057</td>\n",
              "      <td>0.146060</td>\n",
              "      <td>0.190277</td>\n",
              "      <td>-0.151478</td>\n",
              "      <td>0.184173</td>\n",
              "      <td>0.144469</td>\n",
              "      <td>-0.103383</td>\n",
              "      <td>0.066791</td>\n",
              "      <td>-0.279441</td>\n",
              "      <td>0.025963</td>\n",
              "      <td>-0.220827</td>\n",
              "      <td>0.268003</td>\n",
              "    </tr>\n",
              "    <tr>\n",
              "      <th>Sg</th>\n",
              "      <td>-0.164057</td>\n",
              "      <td>1.000000</td>\n",
              "      <td>-0.460835</td>\n",
              "      <td>-0.292053</td>\n",
              "      <td>0.253894</td>\n",
              "      <td>-0.249263</td>\n",
              "      <td>-0.176141</td>\n",
              "      <td>0.217456</td>\n",
              "      <td>-0.063450</td>\n",
              "      <td>0.492103</td>\n",
              "      <td>-0.206880</td>\n",
              "      <td>0.443437</td>\n",
              "      <td>-0.318956</td>\n",
              "    </tr>\n",
              "    <tr>\n",
              "      <th>Al</th>\n",
              "      <td>0.146060</td>\n",
              "      <td>-0.460835</td>\n",
              "      <td>1.000000</td>\n",
              "      <td>0.262564</td>\n",
              "      <td>-0.374484</td>\n",
              "      <td>0.405035</td>\n",
              "      <td>0.229396</td>\n",
              "      <td>-0.270709</td>\n",
              "      <td>0.114484</td>\n",
              "      <td>-0.548681</td>\n",
              "      <td>0.200664</td>\n",
              "      <td>-0.454131</td>\n",
              "      <td>0.478309</td>\n",
              "    </tr>\n",
              "    <tr>\n",
              "      <th>Su</th>\n",
              "      <td>0.190277</td>\n",
              "      <td>-0.292053</td>\n",
              "      <td>0.262564</td>\n",
              "      <td>1.000000</td>\n",
              "      <td>-0.092940</td>\n",
              "      <td>0.126074</td>\n",
              "      <td>0.094568</td>\n",
              "      <td>-0.053448</td>\n",
              "      <td>0.180098</td>\n",
              "      <td>-0.156875</td>\n",
              "      <td>0.159033</td>\n",
              "      <td>-0.163825</td>\n",
              "      <td>0.253179</td>\n",
              "    </tr>\n",
              "    <tr>\n",
              "      <th>Rbc</th>\n",
              "      <td>-0.151478</td>\n",
              "      <td>0.253894</td>\n",
              "      <td>-0.374484</td>\n",
              "      <td>-0.092940</td>\n",
              "      <td>1.000000</td>\n",
              "      <td>-0.236270</td>\n",
              "      <td>-0.138391</td>\n",
              "      <td>0.140568</td>\n",
              "      <td>0.018164</td>\n",
              "      <td>0.280991</td>\n",
              "      <td>-0.002205</td>\n",
              "      <td>0.202298</td>\n",
              "      <td>-0.139342</td>\n",
              "    </tr>\n",
              "    <tr>\n",
              "      <th>Bu</th>\n",
              "      <td>0.184173</td>\n",
              "      <td>-0.249263</td>\n",
              "      <td>0.405035</td>\n",
              "      <td>0.126074</td>\n",
              "      <td>-0.236270</td>\n",
              "      <td>1.000000</td>\n",
              "      <td>0.581176</td>\n",
              "      <td>-0.307357</td>\n",
              "      <td>0.336954</td>\n",
              "      <td>-0.540699</td>\n",
              "      <td>0.041530</td>\n",
              "      <td>-0.465947</td>\n",
              "      <td>0.387503</td>\n",
              "    </tr>\n",
              "    <tr>\n",
              "      <th>Sc</th>\n",
              "      <td>0.144469</td>\n",
              "      <td>-0.176141</td>\n",
              "      <td>0.229396</td>\n",
              "      <td>0.094568</td>\n",
              "      <td>-0.138391</td>\n",
              "      <td>0.581176</td>\n",
              "      <td>1.000000</td>\n",
              "      <td>-0.624493</td>\n",
              "      <td>0.205361</td>\n",
              "      <td>-0.342053</td>\n",
              "      <td>-0.005420</td>\n",
              "      <td>-0.323056</td>\n",
              "      <td>0.273904</td>\n",
              "    </tr>\n",
              "    <tr>\n",
              "      <th>Sod</th>\n",
              "      <td>-0.103383</td>\n",
              "      <td>0.217456</td>\n",
              "      <td>-0.270709</td>\n",
              "      <td>-0.053448</td>\n",
              "      <td>0.140568</td>\n",
              "      <td>-0.307357</td>\n",
              "      <td>-0.624493</td>\n",
              "      <td>1.000000</td>\n",
              "      <td>0.067414</td>\n",
              "      <td>0.333604</td>\n",
              "      <td>0.006334</td>\n",
              "      <td>0.316883</td>\n",
              "      <td>-0.306501</td>\n",
              "    </tr>\n",
              "    <tr>\n",
              "      <th>Pot</th>\n",
              "      <td>0.066791</td>\n",
              "      <td>-0.063450</td>\n",
              "      <td>0.114484</td>\n",
              "      <td>0.180098</td>\n",
              "      <td>0.018164</td>\n",
              "      <td>0.336954</td>\n",
              "      <td>0.205361</td>\n",
              "      <td>0.067414</td>\n",
              "      <td>1.000000</td>\n",
              "      <td>-0.100612</td>\n",
              "      <td>-0.074057</td>\n",
              "      <td>-0.120418</td>\n",
              "      <td>0.057028</td>\n",
              "    </tr>\n",
              "    <tr>\n",
              "      <th>Hemo</th>\n",
              "      <td>-0.279441</td>\n",
              "      <td>0.492103</td>\n",
              "      <td>-0.548681</td>\n",
              "      <td>-0.156875</td>\n",
              "      <td>0.280991</td>\n",
              "      <td>-0.540699</td>\n",
              "      <td>-0.342053</td>\n",
              "      <td>0.333604</td>\n",
              "      <td>-0.100612</td>\n",
              "      <td>1.000000</td>\n",
              "      <td>-0.153806</td>\n",
              "      <td>0.681864</td>\n",
              "      <td>-0.576932</td>\n",
              "    </tr>\n",
              "    <tr>\n",
              "      <th>Wbcc</th>\n",
              "      <td>0.025963</td>\n",
              "      <td>-0.206880</td>\n",
              "      <td>0.200664</td>\n",
              "      <td>0.159033</td>\n",
              "      <td>-0.002205</td>\n",
              "      <td>0.041530</td>\n",
              "      <td>-0.005420</td>\n",
              "      <td>0.006334</td>\n",
              "      <td>-0.074057</td>\n",
              "      <td>-0.153806</td>\n",
              "      <td>1.000000</td>\n",
              "      <td>-0.151380</td>\n",
              "      <td>0.123790</td>\n",
              "    </tr>\n",
              "    <tr>\n",
              "      <th>Rbcc</th>\n",
              "      <td>-0.220827</td>\n",
              "      <td>0.443437</td>\n",
              "      <td>-0.454131</td>\n",
              "      <td>-0.163825</td>\n",
              "      <td>0.202298</td>\n",
              "      <td>-0.465947</td>\n",
              "      <td>-0.323056</td>\n",
              "      <td>0.316883</td>\n",
              "      <td>-0.120418</td>\n",
              "      <td>0.681864</td>\n",
              "      <td>-0.151380</td>\n",
              "      <td>1.000000</td>\n",
              "      <td>-0.527051</td>\n",
              "    </tr>\n",
              "    <tr>\n",
              "      <th>Htn</th>\n",
              "      <td>0.268003</td>\n",
              "      <td>-0.318956</td>\n",
              "      <td>0.478309</td>\n",
              "      <td>0.253179</td>\n",
              "      <td>-0.139342</td>\n",
              "      <td>0.387503</td>\n",
              "      <td>0.273904</td>\n",
              "      <td>-0.306501</td>\n",
              "      <td>0.057028</td>\n",
              "      <td>-0.576932</td>\n",
              "      <td>0.123790</td>\n",
              "      <td>-0.527051</td>\n",
              "      <td>1.000000</td>\n",
              "    </tr>\n",
              "  </tbody>\n",
              "</table>\n",
              "</div>\n",
              "      <button class=\"colab-df-convert\" onclick=\"convertToInteractive('df-25e0a480-cd9b-48f0-a787-41aab3d26198')\"\n",
              "              title=\"Convert this dataframe to an interactive table.\"\n",
              "              style=\"display:none;\">\n",
              "        \n",
              "  <svg xmlns=\"http://www.w3.org/2000/svg\" height=\"24px\"viewBox=\"0 0 24 24\"\n",
              "       width=\"24px\">\n",
              "    <path d=\"M0 0h24v24H0V0z\" fill=\"none\"/>\n",
              "    <path d=\"M18.56 5.44l.94 2.06.94-2.06 2.06-.94-2.06-.94-.94-2.06-.94 2.06-2.06.94zm-11 1L8.5 8.5l.94-2.06 2.06-.94-2.06-.94L8.5 2.5l-.94 2.06-2.06.94zm10 10l.94 2.06.94-2.06 2.06-.94-2.06-.94-.94-2.06-.94 2.06-2.06.94z\"/><path d=\"M17.41 7.96l-1.37-1.37c-.4-.4-.92-.59-1.43-.59-.52 0-1.04.2-1.43.59L10.3 9.45l-7.72 7.72c-.78.78-.78 2.05 0 2.83L4 21.41c.39.39.9.59 1.41.59.51 0 1.02-.2 1.41-.59l7.78-7.78 2.81-2.81c.8-.78.8-2.07 0-2.86zM5.41 20L4 18.59l7.72-7.72 1.47 1.35L5.41 20z\"/>\n",
              "  </svg>\n",
              "      </button>\n",
              "      \n",
              "  <style>\n",
              "    .colab-df-container {\n",
              "      display:flex;\n",
              "      flex-wrap:wrap;\n",
              "      gap: 12px;\n",
              "    }\n",
              "\n",
              "    .colab-df-convert {\n",
              "      background-color: #E8F0FE;\n",
              "      border: none;\n",
              "      border-radius: 50%;\n",
              "      cursor: pointer;\n",
              "      display: none;\n",
              "      fill: #1967D2;\n",
              "      height: 32px;\n",
              "      padding: 0 0 0 0;\n",
              "      width: 32px;\n",
              "    }\n",
              "\n",
              "    .colab-df-convert:hover {\n",
              "      background-color: #E2EBFA;\n",
              "      box-shadow: 0px 1px 2px rgba(60, 64, 67, 0.3), 0px 1px 3px 1px rgba(60, 64, 67, 0.15);\n",
              "      fill: #174EA6;\n",
              "    }\n",
              "\n",
              "    [theme=dark] .colab-df-convert {\n",
              "      background-color: #3B4455;\n",
              "      fill: #D2E3FC;\n",
              "    }\n",
              "\n",
              "    [theme=dark] .colab-df-convert:hover {\n",
              "      background-color: #434B5C;\n",
              "      box-shadow: 0px 1px 3px 1px rgba(0, 0, 0, 0.15);\n",
              "      filter: drop-shadow(0px 1px 2px rgba(0, 0, 0, 0.3));\n",
              "      fill: #FFFFFF;\n",
              "    }\n",
              "  </style>\n",
              "\n",
              "      <script>\n",
              "        const buttonEl =\n",
              "          document.querySelector('#df-25e0a480-cd9b-48f0-a787-41aab3d26198 button.colab-df-convert');\n",
              "        buttonEl.style.display =\n",
              "          google.colab.kernel.accessAllowed ? 'block' : 'none';\n",
              "\n",
              "        async function convertToInteractive(key) {\n",
              "          const element = document.querySelector('#df-25e0a480-cd9b-48f0-a787-41aab3d26198');\n",
              "          const dataTable =\n",
              "            await google.colab.kernel.invokeFunction('convertToInteractive',\n",
              "                                                     [key], {});\n",
              "          if (!dataTable) return;\n",
              "\n",
              "          const docLinkHtml = 'Like what you see? Visit the ' +\n",
              "            '<a target=\"_blank\" href=https://colab.research.google.com/notebooks/data_table.ipynb>data table notebook</a>'\n",
              "            + ' to learn more about interactive tables.';\n",
              "          element.innerHTML = '';\n",
              "          dataTable['output_type'] = 'display_data';\n",
              "          await google.colab.output.renderOutput(dataTable, element);\n",
              "          const docLink = document.createElement('div');\n",
              "          docLink.innerHTML = docLinkHtml;\n",
              "          element.appendChild(docLink);\n",
              "        }\n",
              "      </script>\n",
              "    </div>\n",
              "  </div>\n",
              "  "
            ]
          },
          "metadata": {},
          "execution_count": 20
        }
      ]
    },
    {
      "cell_type": "code",
      "source": [
        "df_num.hist(figsize=(16, 20), bins=50, xlabelsize=8, ylabelsize=8)"
      ],
      "metadata": {
        "colab": {
          "base_uri": "https://localhost:8080/",
          "height": 1000
        },
        "id": "2dL-GpZX2yff",
        "outputId": "8fc0f7ae-9da2-45a2-b891-acab538a206e"
      },
      "execution_count": null,
      "outputs": [
        {
          "output_type": "execute_result",
          "data": {
            "text/plain": [
              "array([[<matplotlib.axes._subplots.AxesSubplot object at 0x7f6ace777110>,\n",
              "        <matplotlib.axes._subplots.AxesSubplot object at 0x7f6ace716350>,\n",
              "        <matplotlib.axes._subplots.AxesSubplot object at 0x7f6ace74d950>,\n",
              "        <matplotlib.axes._subplots.AxesSubplot object at 0x7f6ace705f50>],\n",
              "       [<matplotlib.axes._subplots.AxesSubplot object at 0x7f6ace6c7590>,\n",
              "        <matplotlib.axes._subplots.AxesSubplot object at 0x7f6ace67db90>,\n",
              "        <matplotlib.axes._subplots.AxesSubplot object at 0x7f6ace63e1d0>,\n",
              "        <matplotlib.axes._subplots.AxesSubplot object at 0x7f6ace5f97d0>],\n",
              "       [<matplotlib.axes._subplots.AxesSubplot object at 0x7f6ace609b10>,\n",
              "        <matplotlib.axes._subplots.AxesSubplot object at 0x7f6ace5cf250>,\n",
              "        <matplotlib.axes._subplots.AxesSubplot object at 0x7f6ace52aa10>,\n",
              "        <matplotlib.axes._subplots.AxesSubplot object at 0x7f6ace4e9050>],\n",
              "       [<matplotlib.axes._subplots.AxesSubplot object at 0x7f6ace4a4650>,\n",
              "        <matplotlib.axes._subplots.AxesSubplot object at 0x7f6ace45cc50>,\n",
              "        <matplotlib.axes._subplots.AxesSubplot object at 0x7f6ace41e210>,\n",
              "        <matplotlib.axes._subplots.AxesSubplot object at 0x7f6ace3d5810>]],\n",
              "      dtype=object)"
            ]
          },
          "metadata": {},
          "execution_count": 21
        },
        {
          "output_type": "display_data",
          "data": {
            "text/plain": [
              "<Figure size 1152x1440 with 16 Axes>"
            ],
            "image/png": "[encoded data removed]"
          },
          "metadata": {
            "needs_background": "light"
          }
        }
      ]
    },
    {
      "cell_type": "code",
      "source": [
        "np.set_printoptions(formatter={'float': '{:0.2f}'.format})"
      ],
      "metadata": {
        "id": "1e9f_6E214cT"
      },
      "execution_count": null,
      "outputs": []
    },
    {
      "cell_type": "code",
      "source": [
        "X = dataset[:, :-1] # All rows, all columns except last one\n",
        "Y = dataset[:,-1] # All rows, only last column"
      ],
      "metadata": {
        "id": "WSn_-WMN2Jdf"
      },
      "execution_count": null,
      "outputs": []
    },
    {
      "cell_type": "code",
      "source": [
        "print(X.shape,Y.shape)"
      ],
      "metadata": {
        "colab": {
          "base_uri": "https://localhost:8080/"
        },
        "id": "eUtLnoGx2aiz",
        "outputId": "ae1af41d-c6c4-425e-a74b-4739c863d0a4"
      },
      "execution_count": null,
      "outputs": [
        {
          "output_type": "stream",
          "name": "stdout",
          "text": [
            "(400, 13) (400,)\n"
          ]
        }
      ]
    },
    {
      "cell_type": "code",
      "source": [
        "# Manually normalizing the data -\n",
        "\"\"\"\n",
        "mean = X.mean(axis=0)\n",
        "X = X - mean\n",
        "std = X.std(axis=0)\n",
        "X = X/std\n",
        "print(X[:10])\n",
        "\"\"\""
      ],
      "metadata": {
        "id": "AIlp7RF72e5N",
        "colab": {
          "base_uri": "https://localhost:8080/",
          "height": 38
        },
        "outputId": "0e5efa87-3430-45fd-db83-427077c3abac"
      },
      "execution_count": null,
      "outputs": [
        {
          "output_type": "execute_result",
          "data": {
            "text/plain": [
              "'\\nmean = X.mean(axis=0)\\nX = X - mean\\nstd = X.std(axis=0)\\nX = X/std\\nprint(X[:10])\\n'"
            ],
            "application/vnd.google.colaboratory.intrinsic+json": {
              "type": "string"
            }
          },
          "metadata": {},
          "execution_count": 25
        }
      ]
    },
    {
      "cell_type": "code",
      "source": [
        "# Scaling dataset using MinMaxScaler and Robust Scaler\n",
        "\n",
        "# X_std = (X - X.min(axis=0)) / (X.max(axis=0) - X.min(axis=0))\n",
        "# X_scaled = X_std * (max - min) + min\n",
        "\n",
        "# Importing Scaler\n",
        "from sklearn.preprocessing import MinMaxScaler\n",
        "from sklearn.preprocessing import StandardScaler\n",
        "from sklearn.preprocessing import RobustScaler\n",
        "\n",
        "scaler = MinMaxScaler(feature_range=(0,1))   \n",
        "# scaler = RobustScaler()   \n",
        "scaled_X = scaler.fit_transform(X)\n",
        "X = scaled_X\n",
        "print(X[:10])\n",
        "\n",
        "\n",
        "# Splitting into train and test data - 80% train, 20% test\n",
        "split_pct = int(0.8*len(X))\n",
        "train_X, test_X = X[:split_pct], X[split_pct:]\n",
        "train_Y, test_Y = Y[:split_pct], Y[split_pct:]\n",
        "print(\"\\n\\n\")\n",
        "print(train_X[:10])"
      ],
      "metadata": {
        "colab": {
          "base_uri": "https://localhost:8080/"
        },
        "id": "14MpGmor5nzq",
        "outputId": "c292a62e-c505-4567-eab0-eb7570c0041a"
      },
      "execution_count": null,
      "outputs": [
        {
          "output_type": "stream",
          "name": "stdout",
          "text": [
            "[[0.23 0.75 0.20 0.00 1.00 0.09 0.01 0.84 0.05 0.84 0.23 0.53 1.00]\n",
            " [0.00 0.75 0.80 0.00 1.00 0.04 0.01 0.84 0.05 0.56 0.16 0.44 0.00]\n",
            " [0.23 0.25 0.40 0.60 1.00 0.13 0.02 0.84 0.05 0.44 0.22 0.44 0.00]\n",
            " [0.15 0.00 0.80 0.00 1.00 0.14 0.04 0.67 0.00 0.55 0.19 0.31 1.00]\n",
            " [0.23 0.25 0.40 0.00 1.00 0.06 0.01 0.84 0.05 0.58 0.21 0.42 0.00]\n",
            " [0.31 0.50 0.60 0.00 1.00 0.06 0.01 0.87 0.02 0.62 0.23 0.39 1.00]\n",
            " [0.15 0.25 0.00 0.00 1.00 0.13 0.31 0.63 0.03 0.63 0.26 0.44 0.00]\n",
            " [0.20 0.50 0.40 0.80 1.00 0.08 0.01 0.84 0.05 0.63 0.19 0.49 0.00]\n",
            " [0.38 0.50 0.60 0.00 1.00 0.15 0.02 0.84 0.05 0.52 0.31 0.32 1.00]\n",
            " [0.31 0.75 0.40 0.00 0.00 0.27 0.09 0.69 0.03 0.44 0.41 0.27 1.00]]\n",
            "\n",
            "\n",
            "\n",
            "[[0.23 0.75 0.20 0.00 1.00 0.09 0.01 0.84 0.05 0.84 0.23 0.53 1.00]\n",
            " [0.00 0.75 0.80 0.00 1.00 0.04 0.01 0.84 0.05 0.56 0.16 0.44 0.00]\n",
            " [0.23 0.25 0.40 0.60 1.00 0.13 0.02 0.84 0.05 0.44 0.22 0.44 0.00]\n",
            " [0.15 0.00 0.80 0.00 1.00 0.14 0.04 0.67 0.00 0.55 0.19 0.31 1.00]\n",
            " [0.23 0.25 0.40 0.00 1.00 0.06 0.01 0.84 0.05 0.58 0.21 0.42 0.00]\n",
            " [0.31 0.50 0.60 0.00 1.00 0.06 0.01 0.87 0.02 0.62 0.23 0.39 1.00]\n",
            " [0.15 0.25 0.00 0.00 1.00 0.13 0.31 0.63 0.03 0.63 0.26 0.44 0.00]\n",
            " [0.20 0.50 0.40 0.80 1.00 0.08 0.01 0.84 0.05 0.63 0.19 0.49 0.00]\n",
            " [0.38 0.50 0.60 0.00 1.00 0.15 0.02 0.84 0.05 0.52 0.31 0.32 1.00]\n",
            " [0.31 0.75 0.40 0.00 0.00 0.27 0.09 0.69 0.03 0.44 0.41 0.27 1.00]]\n"
          ]
        }
      ]
    },
    {
      "cell_type": "code",
      "source": [
        "blood_pressure = X[:,0]\n",
        "specific_gravity_urine = X[:,1]\n",
        "albumin = X[:,2]"
      ],
      "metadata": {
        "id": "Ks7WX2qD6K_W"
      },
      "execution_count": null,
      "outputs": []
    },
    {
      "cell_type": "code",
      "source": [
        "plt.boxplot(blood_pressure)\n",
        "print(\"Blood Pressure\")"
      ],
      "metadata": {
        "colab": {
          "base_uri": "https://localhost:8080/",
          "height": 282
        },
        "id": "a7I91Qy64zNT",
        "outputId": "fe71b886-8cde-47cd-e0cb-1ba0476833e1"
      },
      "execution_count": null,
      "outputs": [
        {
          "output_type": "stream",
          "name": "stdout",
          "text": [
            "Blood Pressure\n"
          ]
        },
        {
          "output_type": "display_data",
          "data": {
            "text/plain": [
              "<Figure size 432x288 with 1 Axes>"
            ],
            "image/png": "[encoded data removed]"
          },
          "metadata": {
            "needs_background": "light"
          }
        }
      ]
    },
    {
      "cell_type": "code",
      "source": [
        "plt.boxplot(specific_gravity_urine)\n",
        "print(\"Specific Gravity of Urine\")"
      ],
      "metadata": {
        "colab": {
          "base_uri": "https://localhost:8080/",
          "height": 282
        },
        "id": "JGX9i6XD5D4m",
        "outputId": "37362882-d7eb-424c-d2c1-cb5fef5e2c42"
      },
      "execution_count": null,
      "outputs": [
        {
          "output_type": "stream",
          "name": "stdout",
          "text": [
            "Specific Gravity of Urine\n"
          ]
        },
        {
          "output_type": "display_data",
          "data": {
            "text/plain": [
              "<Figure size 432x288 with 1 Axes>"
            ],
            "image/png": "[encoded data removed]"
          },
          "metadata": {
            "needs_background": "light"
          }
        }
      ]
    },
    {
      "cell_type": "code",
      "source": [
        "plt.boxplot(albumin)\n",
        "print(\"Albumin\")"
      ],
      "metadata": {
        "colab": {
          "base_uri": "https://localhost:8080/",
          "height": 282
        },
        "id": "eQmnk_0D5F8V",
        "outputId": "4bc0b26f-3b51-4f77-d8e1-d223b014b4fc"
      },
      "execution_count": null,
      "outputs": [
        {
          "output_type": "stream",
          "name": "stdout",
          "text": [
            "Albumin\n"
          ]
        },
        {
          "output_type": "display_data",
          "data": {
            "text/plain": [
              "<Figure size 432x288 with 1 Axes>"
            ],
            "image/png": "[encoded data removed]"
          },
          "metadata": {
            "needs_background": "light"
          }
        }
      ]
    },
    {
      "cell_type": "code",
      "source": [
        "plt.hist(blood_pressure)"
      ],
      "metadata": {
        "colab": {
          "base_uri": "https://localhost:8080/",
          "height": 317
        },
        "id": "00pkVhoE5WfD",
        "outputId": "a84d4135-0dbd-46b1-89fd-3bece91818f1"
      },
      "execution_count": null,
      "outputs": [
        {
          "output_type": "execute_result",
          "data": {
            "text/plain": [
              "(array([76.00, 112.00, 128.00, 78.00, 3.00, 1.00, 1.00, 0.00, 0.00, 1.00]),\n",
              " array([0.00, 0.10, 0.20, 0.30, 0.40, 0.50, 0.60, 0.70, 0.80, 0.90, 1.00]),\n",
              " <a list of 10 Patch objects>)"
            ]
          },
          "metadata": {},
          "execution_count": 31
        },
        {
          "output_type": "display_data",
          "data": {
            "text/plain": [
              "<Figure size 432x288 with 1 Axes>"
            ],
            "image/png": "[encoded data removed]"
          },
          "metadata": {
            "needs_background": "light"
          }
        }
      ]
    },
    {
      "cell_type": "markdown",
      "source": [
        "# Sequential Model in Keras"
      ],
      "metadata": {
        "id": "IIWkCpat-dOR"
      }
    },
    {
      "cell_type": "code",
      "source": [
        "from tensorflow.keras.models import Sequential\n",
        "from tensorflow.keras.layers import Dense"
      ],
      "metadata": {
        "id": "jAf0aQqP6TSf"
      },
      "execution_count": null,
      "outputs": []
    },
    {
      "cell_type": "code",
      "source": [
        "model=Sequential()\n",
        "model.add(Dense(8,input_dim=len(train_X[0,:]),activation='relu'))\n",
        "model.add(Dense(4,activation='relu')) # y = max(0, x)\n",
        "#model.add(Dense(4,activation='relu'))\n",
        "model.add(Dense(1,activation='sigmoid'))  # y = 1 / 1+e^ -z"
      ],
      "metadata": {
        "id": "y6m3uKI87w2u"
      },
      "execution_count": null,
      "outputs": []
    },
    {
      "cell_type": "code",
      "source": [
        "model.summary()"
      ],
      "metadata": {
        "colab": {
          "base_uri": "https://localhost:8080/"
        },
        "id": "p0i4KfPY8roc",
        "outputId": "eb2777a7-58c6-4c06-b29f-8bb704576b3a"
      },
      "execution_count": null,
      "outputs": [
        {
          "output_type": "stream",
          "name": "stdout",
          "text": [
            "Model: \"sequential\"\n",
            "_________________________________________________________________\n",
            " Layer (type)                Output Shape              Param #   \n",
            "=================================================================\n",
            " dense (Dense)               (None, 8)                 112       \n",
            "                                                                 \n",
            " dense_1 (Dense)             (None, 4)                 36        \n",
            "                                                                 \n",
            " dense_2 (Dense)             (None, 1)                 5         \n",
            "                                                                 \n",
            "=================================================================\n",
            "Total params: 153\n",
            "Trainable params: 153\n",
            "Non-trainable params: 0\n",
            "_________________________________________________________________\n"
          ]
        }
      ]
    },
    {
      "cell_type": "code",
      "source": [
        "from tensorflow.keras.optimizers import Adam\n",
        "\n",
        "model.compile(loss='binary_crossentropy',optimizer='rmsprop',metrics=['accuracy'])\n",
        "\n",
        "# model.compile(loss='binary_crossentropy',optimizer=Adam(learning_rate=0.0001),metrics=['accuracy'])\n",
        "\n",
        "# Adaptive Moment Estimation is an algorithm for optimization technique for gradient descent. Efficient when working with large problem involving a lot of data or parameters. \n",
        "# Intuitively, it is a combination of the ‘gradient descent with momentum’ algorithm and the ‘RMSP’ algorithm.\n",
        "# rmsprop -> Root Mean Squared Propagation\n",
        "# The binary_crossentropy function computes the cross-entropy loss between true labels and predicted labels"
      ],
      "metadata": {
        "id": "nxTfyIIQ8vPr"
      },
      "execution_count": null,
      "outputs": []
    },
    {
      "cell_type": "code",
      "source": [
        "model.fit(x=train_X,y=train_Y,epochs=256,verbose=1)"
      ],
      "metadata": {
        "colab": {
          "base_uri": "https://localhost:8080/"
        },
        "id": "E8Sx1W5l9iRg",
        "outputId": "075ffeb4-adeb-4730-e1a1-fc16ad62d324"
      },
      "execution_count": null,
      "outputs": [
        {
          "output_type": "stream",
          "name": "stdout",
          "text": [
            "Epoch 1/256\n",
            "10/10 [==============================] - 1s 2ms/step - loss: 0.7178 - accuracy: 0.3562\n",
            "Epoch 2/256\n",
            "10/10 [==============================] - 0s 2ms/step - loss: 0.6935 - accuracy: 0.4906\n",
            "Epoch 3/256\n",
            "10/10 [==============================] - 0s 2ms/step - loss: 0.6754 - accuracy: 0.6313\n",
            "Epoch 4/256\n",
            "10/10 [==============================] - 0s 2ms/step - loss: 0.6592 - accuracy: 0.7312\n",
            "Epoch 5/256\n",
            "10/10 [==============================] - 0s 2ms/step - loss: 0.6460 - accuracy: 0.7750\n",
            "Epoch 6/256\n",
            "10/10 [==============================] - 0s 2ms/step - loss: 0.6344 - accuracy: 0.7750\n",
            "Epoch 7/256\n",
            "10/10 [==============================] - 0s 2ms/step - loss: 0.6228 - accuracy: 0.7781\n",
            "Epoch 8/256\n",
            "10/10 [==============================] - 0s 2ms/step - loss: 0.6111 - accuracy: 0.7781\n",
            "Epoch 9/256\n",
            "10/10 [==============================] - 0s 2ms/step - loss: 0.5997 - accuracy: 0.7781\n",
            "Epoch 10/256\n",
            "10/10 [==============================] - 0s 2ms/step - loss: 0.5881 - accuracy: 0.7812\n",
            "Epoch 11/256\n",
            "10/10 [==============================] - 0s 2ms/step - loss: 0.5763 - accuracy: 0.7812\n",
            "Epoch 12/256\n",
            "10/10 [==============================] - 0s 2ms/step - loss: 0.5639 - accuracy: 0.7812\n",
            "Epoch 13/256\n",
            "10/10 [==============================] - 0s 2ms/step - loss: 0.5501 - accuracy: 0.7812\n",
            "Epoch 14/256\n",
            "10/10 [==============================] - 0s 2ms/step - loss: 0.5354 - accuracy: 0.7812\n",
            "Epoch 15/256\n",
            "10/10 [==============================] - 0s 2ms/step - loss: 0.5200 - accuracy: 0.7812\n",
            "Epoch 16/256\n",
            "10/10 [==============================] - 0s 2ms/step - loss: 0.5043 - accuracy: 0.7812\n",
            "Epoch 17/256\n",
            "10/10 [==============================] - 0s 2ms/step - loss: 0.4876 - accuracy: 0.7812\n",
            "Epoch 18/256\n",
            "10/10 [==============================] - 0s 2ms/step - loss: 0.4743 - accuracy: 0.7812\n",
            "Epoch 19/256\n",
            "10/10 [==============================] - 0s 2ms/step - loss: 0.4639 - accuracy: 0.7812\n",
            "Epoch 20/256\n",
            "10/10 [==============================] - 0s 2ms/step - loss: 0.4558 - accuracy: 0.7812\n",
            "Epoch 21/256\n",
            "10/10 [==============================] - 0s 2ms/step - loss: 0.4470 - accuracy: 0.7812\n",
            "Epoch 22/256\n",
            "10/10 [==============================] - 0s 2ms/step - loss: 0.4391 - accuracy: 0.7812\n",
            "Epoch 23/256\n",
            "10/10 [==============================] - 0s 2ms/step - loss: 0.4305 - accuracy: 0.7812\n",
            "Epoch 24/256\n",
            "10/10 [==============================] - 0s 2ms/step - loss: 0.4220 - accuracy: 0.7812\n",
            "Epoch 25/256\n",
            "10/10 [==============================] - 0s 2ms/step - loss: 0.4132 - accuracy: 0.7812\n",
            "Epoch 26/256\n",
            "10/10 [==============================] - 0s 2ms/step - loss: 0.4045 - accuracy: 0.7812\n",
            "Epoch 27/256\n",
            "10/10 [==============================] - 0s 2ms/step - loss: 0.3952 - accuracy: 0.7812\n",
            "Epoch 28/256\n",
            "10/10 [==============================] - 0s 2ms/step - loss: 0.3863 - accuracy: 0.7812\n",
            "Epoch 29/256\n",
            "10/10 [==============================] - 0s 2ms/step - loss: 0.3770 - accuracy: 0.7812\n",
            "Epoch 30/256\n",
            "10/10 [==============================] - 0s 2ms/step - loss: 0.3676 - accuracy: 0.7812\n",
            "Epoch 31/256\n",
            "10/10 [==============================] - 0s 2ms/step - loss: 0.3591 - accuracy: 0.7812\n",
            "Epoch 32/256\n",
            "10/10 [==============================] - 0s 2ms/step - loss: 0.3505 - accuracy: 0.7812\n",
            "Epoch 33/256\n",
            "10/10 [==============================] - 0s 2ms/step - loss: 0.3417 - accuracy: 0.7812\n",
            "Epoch 34/256\n",
            "10/10 [==============================] - 0s 3ms/step - loss: 0.3332 - accuracy: 0.7812\n",
            "Epoch 35/256\n",
            "10/10 [==============================] - 0s 2ms/step - loss: 0.3245 - accuracy: 0.7812\n",
            "Epoch 36/256\n",
            "10/10 [==============================] - 0s 2ms/step - loss: 0.3170 - accuracy: 0.7812\n",
            "Epoch 37/256\n",
            "10/10 [==============================] - 0s 2ms/step - loss: 0.3098 - accuracy: 0.7812\n",
            "Epoch 38/256\n",
            "10/10 [==============================] - 0s 2ms/step - loss: 0.3032 - accuracy: 0.7812\n",
            "Epoch 39/256\n",
            "10/10 [==============================] - 0s 2ms/step - loss: 0.2969 - accuracy: 0.7812\n",
            "Epoch 40/256\n",
            "10/10 [==============================] - 0s 2ms/step - loss: 0.2907 - accuracy: 0.7812\n",
            "Epoch 41/256\n",
            "10/10 [==============================] - 0s 2ms/step - loss: 0.2851 - accuracy: 0.7812\n",
            "Epoch 42/256\n",
            "10/10 [==============================] - 0s 2ms/step - loss: 0.2794 - accuracy: 0.7812\n",
            "Epoch 43/256\n",
            "10/10 [==============================] - 0s 2ms/step - loss: 0.2749 - accuracy: 0.7812\n",
            "Epoch 44/256\n",
            "10/10 [==============================] - 0s 2ms/step - loss: 0.2699 - accuracy: 0.7812\n",
            "Epoch 45/256\n",
            "10/10 [==============================] - 0s 2ms/step - loss: 0.2655 - accuracy: 0.7812\n",
            "Epoch 46/256\n",
            "10/10 [==============================] - 0s 2ms/step - loss: 0.2614 - accuracy: 0.7812\n",
            "Epoch 47/256\n",
            "10/10 [==============================] - 0s 2ms/step - loss: 0.2574 - accuracy: 0.7812\n",
            "Epoch 48/256\n",
            "10/10 [==============================] - 0s 2ms/step - loss: 0.2535 - accuracy: 0.7812\n",
            "Epoch 49/256\n",
            "10/10 [==============================] - 0s 2ms/step - loss: 0.2501 - accuracy: 0.7812\n",
            "Epoch 50/256\n",
            "10/10 [==============================] - 0s 2ms/step - loss: 0.2466 - accuracy: 0.7812\n",
            "Epoch 51/256\n",
            "10/10 [==============================] - 0s 3ms/step - loss: 0.2434 - accuracy: 0.7812\n",
            "Epoch 52/256\n",
            "10/10 [==============================] - 0s 2ms/step - loss: 0.2407 - accuracy: 0.7812\n",
            "Epoch 53/256\n",
            "10/10 [==============================] - 0s 2ms/step - loss: 0.2378 - accuracy: 0.7812\n",
            "Epoch 54/256\n",
            "10/10 [==============================] - 0s 2ms/step - loss: 0.2350 - accuracy: 0.7812\n",
            "Epoch 55/256\n",
            "10/10 [==============================] - 0s 2ms/step - loss: 0.2324 - accuracy: 0.7812\n",
            "Epoch 56/256\n",
            "10/10 [==============================] - 0s 2ms/step - loss: 0.2300 - accuracy: 0.7812\n",
            "Epoch 57/256\n",
            "10/10 [==============================] - 0s 2ms/step - loss: 0.2275 - accuracy: 0.7812\n",
            "Epoch 58/256\n",
            "10/10 [==============================] - 0s 2ms/step - loss: 0.2248 - accuracy: 0.7812\n",
            "Epoch 59/256\n",
            "10/10 [==============================] - 0s 2ms/step - loss: 0.2218 - accuracy: 0.8813\n",
            "Epoch 60/256\n",
            "10/10 [==============================] - 0s 2ms/step - loss: 0.2212 - accuracy: 0.8969\n",
            "Epoch 61/256\n",
            "10/10 [==============================] - 0s 2ms/step - loss: 0.2186 - accuracy: 0.9156\n",
            "Epoch 62/256\n",
            "10/10 [==============================] - 0s 2ms/step - loss: 0.2167 - accuracy: 0.9125\n",
            "Epoch 63/256\n",
            "10/10 [==============================] - 0s 2ms/step - loss: 0.2147 - accuracy: 0.9250\n",
            "Epoch 64/256\n",
            "10/10 [==============================] - 0s 2ms/step - loss: 0.2128 - accuracy: 0.9438\n",
            "Epoch 65/256\n",
            "10/10 [==============================] - 0s 2ms/step - loss: 0.2114 - accuracy: 0.9250\n",
            "Epoch 66/256\n",
            "10/10 [==============================] - 0s 2ms/step - loss: 0.2099 - accuracy: 0.9281\n",
            "Epoch 67/256\n",
            "10/10 [==============================] - 0s 2ms/step - loss: 0.2079 - accuracy: 0.9375\n",
            "Epoch 68/256\n",
            "10/10 [==============================] - 0s 2ms/step - loss: 0.2060 - accuracy: 0.9500\n",
            "Epoch 69/256\n",
            "10/10 [==============================] - 0s 2ms/step - loss: 0.2046 - accuracy: 0.9375\n",
            "Epoch 70/256\n",
            "10/10 [==============================] - 0s 2ms/step - loss: 0.2027 - accuracy: 0.9500\n",
            "Epoch 71/256\n",
            "10/10 [==============================] - 0s 3ms/step - loss: 0.2009 - accuracy: 0.9500\n",
            "Epoch 72/256\n",
            "10/10 [==============================] - 0s 2ms/step - loss: 0.1995 - accuracy: 0.9563\n",
            "Epoch 73/256\n",
            "10/10 [==============================] - 0s 2ms/step - loss: 0.1980 - accuracy: 0.9531\n",
            "Epoch 74/256\n",
            "10/10 [==============================] - 0s 2ms/step - loss: 0.1963 - accuracy: 0.9656\n",
            "Epoch 75/256\n",
            "10/10 [==============================] - 0s 2ms/step - loss: 0.1946 - accuracy: 0.9531\n",
            "Epoch 76/256\n",
            "10/10 [==============================] - 0s 2ms/step - loss: 0.1932 - accuracy: 0.9594\n",
            "Epoch 77/256\n",
            "10/10 [==============================] - 0s 2ms/step - loss: 0.1918 - accuracy: 0.9656\n",
            "Epoch 78/256\n",
            "10/10 [==============================] - 0s 2ms/step - loss: 0.1903 - accuracy: 0.9594\n",
            "Epoch 79/256\n",
            "10/10 [==============================] - 0s 2ms/step - loss: 0.1888 - accuracy: 0.9625\n",
            "Epoch 80/256\n",
            "10/10 [==============================] - 0s 2ms/step - loss: 0.1875 - accuracy: 0.9688\n",
            "Epoch 81/256\n",
            "10/10 [==============================] - 0s 2ms/step - loss: 0.1868 - accuracy: 0.9625\n",
            "Epoch 82/256\n",
            "10/10 [==============================] - 0s 2ms/step - loss: 0.1848 - accuracy: 0.9625\n",
            "Epoch 83/256\n",
            "10/10 [==============================] - 0s 2ms/step - loss: 0.1835 - accuracy: 0.9656\n",
            "Epoch 84/256\n",
            "10/10 [==============================] - 0s 2ms/step - loss: 0.1824 - accuracy: 0.9656\n",
            "Epoch 85/256\n",
            "10/10 [==============================] - 0s 2ms/step - loss: 0.1809 - accuracy: 0.9688\n",
            "Epoch 86/256\n",
            "10/10 [==============================] - 0s 2ms/step - loss: 0.1805 - accuracy: 0.9656\n",
            "Epoch 87/256\n",
            "10/10 [==============================] - 0s 2ms/step - loss: 0.1785 - accuracy: 0.9688\n",
            "Epoch 88/256\n",
            "10/10 [==============================] - 0s 2ms/step - loss: 0.1773 - accuracy: 0.9688\n",
            "Epoch 89/256\n",
            "10/10 [==============================] - 0s 2ms/step - loss: 0.1759 - accuracy: 0.9688\n",
            "Epoch 90/256\n",
            "10/10 [==============================] - 0s 2ms/step - loss: 0.1747 - accuracy: 0.9719\n",
            "Epoch 91/256\n",
            "10/10 [==============================] - 0s 2ms/step - loss: 0.1740 - accuracy: 0.9688\n",
            "Epoch 92/256\n",
            "10/10 [==============================] - 0s 2ms/step - loss: 0.1727 - accuracy: 0.9719\n",
            "Epoch 93/256\n",
            "10/10 [==============================] - 0s 2ms/step - loss: 0.1714 - accuracy: 0.9688\n",
            "Epoch 94/256\n",
            "10/10 [==============================] - 0s 2ms/step - loss: 0.1703 - accuracy: 0.9719\n",
            "Epoch 95/256\n",
            "10/10 [==============================] - 0s 2ms/step - loss: 0.1689 - accuracy: 0.9750\n",
            "Epoch 96/256\n",
            "10/10 [==============================] - 0s 2ms/step - loss: 0.1688 - accuracy: 0.9719\n",
            "Epoch 97/256\n",
            "10/10 [==============================] - 0s 2ms/step - loss: 0.1670 - accuracy: 0.9750\n",
            "Epoch 98/256\n",
            "10/10 [==============================] - 0s 2ms/step - loss: 0.1661 - accuracy: 0.9688\n",
            "Epoch 99/256\n",
            "10/10 [==============================] - 0s 3ms/step - loss: 0.1651 - accuracy: 0.9656\n",
            "Epoch 100/256\n",
            "10/10 [==============================] - 0s 2ms/step - loss: 0.1639 - accuracy: 0.9719\n",
            "Epoch 101/256\n",
            "10/10 [==============================] - 0s 2ms/step - loss: 0.1628 - accuracy: 0.9688\n",
            "Epoch 102/256\n",
            "10/10 [==============================] - 0s 2ms/step - loss: 0.1617 - accuracy: 0.9719\n",
            "Epoch 103/256\n",
            "10/10 [==============================] - 0s 2ms/step - loss: 0.1609 - accuracy: 0.9719\n",
            "Epoch 104/256\n",
            "10/10 [==============================] - 0s 2ms/step - loss: 0.1598 - accuracy: 0.9688\n",
            "Epoch 105/256\n",
            "10/10 [==============================] - 0s 2ms/step - loss: 0.1583 - accuracy: 0.9750\n",
            "Epoch 106/256\n",
            "10/10 [==============================] - 0s 2ms/step - loss: 0.1573 - accuracy: 0.9781\n",
            "Epoch 107/256\n",
            "10/10 [==============================] - 0s 3ms/step - loss: 0.1570 - accuracy: 0.9750\n",
            "Epoch 108/256\n",
            "10/10 [==============================] - 0s 2ms/step - loss: 0.1561 - accuracy: 0.9719\n",
            "Epoch 109/256\n",
            "10/10 [==============================] - 0s 2ms/step - loss: 0.1544 - accuracy: 0.9750\n",
            "Epoch 110/256\n",
            "10/10 [==============================] - 0s 2ms/step - loss: 0.1537 - accuracy: 0.9688\n",
            "Epoch 111/256\n",
            "10/10 [==============================] - 0s 2ms/step - loss: 0.1527 - accuracy: 0.9781\n",
            "Epoch 112/256\n",
            "10/10 [==============================] - 0s 2ms/step - loss: 0.1519 - accuracy: 0.9781\n",
            "Epoch 113/256\n",
            "10/10 [==============================] - 0s 2ms/step - loss: 0.1507 - accuracy: 0.9719\n",
            "Epoch 114/256\n",
            "10/10 [==============================] - 0s 2ms/step - loss: 0.1500 - accuracy: 0.9781\n",
            "Epoch 115/256\n",
            "10/10 [==============================] - 0s 2ms/step - loss: 0.1487 - accuracy: 0.9781\n",
            "Epoch 116/256\n",
            "10/10 [==============================] - 0s 2ms/step - loss: 0.1483 - accuracy: 0.9781\n",
            "Epoch 117/256\n",
            "10/10 [==============================] - 0s 2ms/step - loss: 0.1479 - accuracy: 0.9688\n",
            "Epoch 118/256\n",
            "10/10 [==============================] - 0s 2ms/step - loss: 0.1469 - accuracy: 0.9781\n",
            "Epoch 119/256\n",
            "10/10 [==============================] - 0s 2ms/step - loss: 0.1455 - accuracy: 0.9719\n",
            "Epoch 120/256\n",
            "10/10 [==============================] - 0s 2ms/step - loss: 0.1450 - accuracy: 0.9781\n",
            "Epoch 121/256\n",
            "10/10 [==============================] - 0s 2ms/step - loss: 0.1450 - accuracy: 0.9750\n",
            "Epoch 122/256\n",
            "10/10 [==============================] - 0s 2ms/step - loss: 0.1434 - accuracy: 0.9750\n",
            "Epoch 123/256\n",
            "10/10 [==============================] - 0s 2ms/step - loss: 0.1424 - accuracy: 0.9812\n",
            "Epoch 124/256\n",
            "10/10 [==============================] - 0s 2ms/step - loss: 0.1422 - accuracy: 0.9750\n",
            "Epoch 125/256\n",
            "10/10 [==============================] - 0s 2ms/step - loss: 0.1410 - accuracy: 0.9781\n",
            "Epoch 126/256\n",
            "10/10 [==============================] - 0s 2ms/step - loss: 0.1406 - accuracy: 0.9781\n",
            "Epoch 127/256\n",
            "10/10 [==============================] - 0s 2ms/step - loss: 0.1397 - accuracy: 0.9750\n",
            "Epoch 128/256\n",
            "10/10 [==============================] - 0s 2ms/step - loss: 0.1387 - accuracy: 0.9781\n",
            "Epoch 129/256\n",
            "10/10 [==============================] - 0s 2ms/step - loss: 0.1379 - accuracy: 0.9812\n",
            "Epoch 130/256\n",
            "10/10 [==============================] - 0s 2ms/step - loss: 0.1370 - accuracy: 0.9750\n",
            "Epoch 131/256\n",
            "10/10 [==============================] - 0s 2ms/step - loss: 0.1364 - accuracy: 0.9812\n",
            "Epoch 132/256\n",
            "10/10 [==============================] - 0s 2ms/step - loss: 0.1355 - accuracy: 0.9812\n",
            "Epoch 133/256\n",
            "10/10 [==============================] - 0s 2ms/step - loss: 0.1350 - accuracy: 0.9781\n",
            "Epoch 134/256\n",
            "10/10 [==============================] - 0s 2ms/step - loss: 0.1338 - accuracy: 0.9812\n",
            "Epoch 135/256\n",
            "10/10 [==============================] - 0s 2ms/step - loss: 0.1337 - accuracy: 0.9750\n",
            "Epoch 136/256\n",
            "10/10 [==============================] - 0s 2ms/step - loss: 0.1325 - accuracy: 0.9781\n",
            "Epoch 137/256\n",
            "10/10 [==============================] - 0s 2ms/step - loss: 0.1315 - accuracy: 0.9812\n",
            "Epoch 138/256\n",
            "10/10 [==============================] - 0s 2ms/step - loss: 0.1308 - accuracy: 0.9812\n",
            "Epoch 139/256\n",
            "10/10 [==============================] - 0s 2ms/step - loss: 0.1306 - accuracy: 0.9812\n",
            "Epoch 140/256\n",
            "10/10 [==============================] - 0s 2ms/step - loss: 0.1295 - accuracy: 0.9781\n",
            "Epoch 141/256\n",
            "10/10 [==============================] - 0s 2ms/step - loss: 0.1284 - accuracy: 0.9781\n",
            "Epoch 142/256\n",
            "10/10 [==============================] - 0s 2ms/step - loss: 0.1279 - accuracy: 0.9812\n",
            "Epoch 143/256\n",
            "10/10 [==============================] - 0s 2ms/step - loss: 0.1274 - accuracy: 0.9781\n",
            "Epoch 144/256\n",
            "10/10 [==============================] - 0s 2ms/step - loss: 0.1263 - accuracy: 0.9812\n",
            "Epoch 145/256\n",
            "10/10 [==============================] - 0s 2ms/step - loss: 0.1260 - accuracy: 0.9781\n",
            "Epoch 146/256\n",
            "10/10 [==============================] - 0s 2ms/step - loss: 0.1253 - accuracy: 0.9812\n",
            "Epoch 147/256\n",
            "10/10 [==============================] - 0s 2ms/step - loss: 0.1242 - accuracy: 0.9812\n",
            "Epoch 148/256\n",
            "10/10 [==============================] - 0s 2ms/step - loss: 0.1237 - accuracy: 0.9812\n",
            "Epoch 149/256\n",
            "10/10 [==============================] - 0s 2ms/step - loss: 0.1229 - accuracy: 0.9781\n",
            "Epoch 150/256\n",
            "10/10 [==============================] - 0s 2ms/step - loss: 0.1220 - accuracy: 0.9781\n",
            "Epoch 151/256\n",
            "10/10 [==============================] - 0s 2ms/step - loss: 0.1219 - accuracy: 0.9781\n",
            "Epoch 152/256\n",
            "10/10 [==============================] - 0s 2ms/step - loss: 0.1217 - accuracy: 0.9781\n",
            "Epoch 153/256\n",
            "10/10 [==============================] - 0s 2ms/step - loss: 0.1201 - accuracy: 0.9781\n",
            "Epoch 154/256\n",
            "10/10 [==============================] - 0s 2ms/step - loss: 0.1191 - accuracy: 0.9781\n",
            "Epoch 155/256\n",
            "10/10 [==============================] - 0s 2ms/step - loss: 0.1191 - accuracy: 0.9781\n",
            "Epoch 156/256\n",
            "10/10 [==============================] - 0s 2ms/step - loss: 0.1181 - accuracy: 0.9812\n",
            "Epoch 157/256\n",
            "10/10 [==============================] - 0s 2ms/step - loss: 0.1171 - accuracy: 0.9812\n",
            "Epoch 158/256\n",
            "10/10 [==============================] - 0s 2ms/step - loss: 0.1170 - accuracy: 0.9781\n",
            "Epoch 159/256\n",
            "10/10 [==============================] - 0s 2ms/step - loss: 0.1163 - accuracy: 0.9781\n",
            "Epoch 160/256\n",
            "10/10 [==============================] - 0s 2ms/step - loss: 0.1152 - accuracy: 0.9781\n",
            "Epoch 161/256\n",
            "10/10 [==============================] - 0s 2ms/step - loss: 0.1149 - accuracy: 0.9781\n",
            "Epoch 162/256\n",
            "10/10 [==============================] - 0s 2ms/step - loss: 0.1147 - accuracy: 0.9812\n",
            "Epoch 163/256\n",
            "10/10 [==============================] - 0s 2ms/step - loss: 0.1134 - accuracy: 0.9781\n",
            "Epoch 164/256\n",
            "10/10 [==============================] - 0s 2ms/step - loss: 0.1131 - accuracy: 0.9781\n",
            "Epoch 165/256\n",
            "10/10 [==============================] - 0s 2ms/step - loss: 0.1122 - accuracy: 0.9781\n",
            "Epoch 166/256\n",
            "10/10 [==============================] - 0s 2ms/step - loss: 0.1118 - accuracy: 0.9781\n",
            "Epoch 167/256\n",
            "10/10 [==============================] - 0s 2ms/step - loss: 0.1108 - accuracy: 0.9781\n",
            "Epoch 168/256\n",
            "10/10 [==============================] - 0s 2ms/step - loss: 0.1106 - accuracy: 0.9781\n",
            "Epoch 169/256\n",
            "10/10 [==============================] - 0s 2ms/step - loss: 0.1096 - accuracy: 0.9781\n",
            "Epoch 170/256\n",
            "10/10 [==============================] - 0s 2ms/step - loss: 0.1082 - accuracy: 0.9781\n",
            "Epoch 171/256\n",
            "10/10 [==============================] - 0s 2ms/step - loss: 0.1088 - accuracy: 0.9781\n",
            "Epoch 172/256\n",
            "10/10 [==============================] - 0s 2ms/step - loss: 0.1081 - accuracy: 0.9781\n",
            "Epoch 173/256\n",
            "10/10 [==============================] - 0s 2ms/step - loss: 0.1071 - accuracy: 0.9812\n",
            "Epoch 174/256\n",
            "10/10 [==============================] - 0s 2ms/step - loss: 0.1067 - accuracy: 0.9781\n",
            "Epoch 175/256\n",
            "10/10 [==============================] - 0s 2ms/step - loss: 0.1061 - accuracy: 0.9781\n",
            "Epoch 176/256\n",
            "10/10 [==============================] - 0s 2ms/step - loss: 0.1059 - accuracy: 0.9781\n",
            "Epoch 177/256\n",
            "10/10 [==============================] - 0s 2ms/step - loss: 0.1055 - accuracy: 0.9781\n",
            "Epoch 178/256\n",
            "10/10 [==============================] - 0s 2ms/step - loss: 0.1047 - accuracy: 0.9781\n",
            "Epoch 179/256\n",
            "10/10 [==============================] - 0s 2ms/step - loss: 0.1043 - accuracy: 0.9781\n",
            "Epoch 180/256\n",
            "10/10 [==============================] - 0s 3ms/step - loss: 0.1036 - accuracy: 0.9781\n",
            "Epoch 181/256\n",
            "10/10 [==============================] - 0s 2ms/step - loss: 0.1033 - accuracy: 0.9781\n",
            "Epoch 182/256\n",
            "10/10 [==============================] - 0s 2ms/step - loss: 0.1027 - accuracy: 0.9781\n",
            "Epoch 183/256\n",
            "10/10 [==============================] - 0s 2ms/step - loss: 0.1022 - accuracy: 0.9781\n",
            "Epoch 184/256\n",
            "10/10 [==============================] - 0s 2ms/step - loss: 0.1011 - accuracy: 0.9812\n",
            "Epoch 185/256\n",
            "10/10 [==============================] - 0s 3ms/step - loss: 0.1010 - accuracy: 0.9812\n",
            "Epoch 186/256\n",
            "10/10 [==============================] - 0s 2ms/step - loss: 0.1010 - accuracy: 0.9781\n",
            "Epoch 187/256\n",
            "10/10 [==============================] - 0s 2ms/step - loss: 0.1002 - accuracy: 0.9781\n",
            "Epoch 188/256\n",
            "10/10 [==============================] - 0s 2ms/step - loss: 0.0995 - accuracy: 0.9781\n",
            "Epoch 189/256\n",
            "10/10 [==============================] - 0s 2ms/step - loss: 0.0986 - accuracy: 0.9781\n",
            "Epoch 190/256\n",
            "10/10 [==============================] - 0s 2ms/step - loss: 0.0982 - accuracy: 0.9812\n",
            "Epoch 191/256\n",
            "10/10 [==============================] - 0s 2ms/step - loss: 0.0979 - accuracy: 0.9781\n",
            "Epoch 192/256\n",
            "10/10 [==============================] - 0s 2ms/step - loss: 0.0981 - accuracy: 0.9781\n",
            "Epoch 193/256\n",
            "10/10 [==============================] - 0s 2ms/step - loss: 0.0972 - accuracy: 0.9812\n",
            "Epoch 194/256\n",
            "10/10 [==============================] - 0s 2ms/step - loss: 0.0967 - accuracy: 0.9781\n",
            "Epoch 195/256\n",
            "10/10 [==============================] - 0s 2ms/step - loss: 0.0968 - accuracy: 0.9781\n",
            "Epoch 196/256\n",
            "10/10 [==============================] - 0s 2ms/step - loss: 0.0955 - accuracy: 0.9781\n",
            "Epoch 197/256\n",
            "10/10 [==============================] - 0s 2ms/step - loss: 0.0949 - accuracy: 0.9781\n",
            "Epoch 198/256\n",
            "10/10 [==============================] - 0s 2ms/step - loss: 0.0946 - accuracy: 0.9781\n",
            "Epoch 199/256\n",
            "10/10 [==============================] - 0s 2ms/step - loss: 0.0950 - accuracy: 0.9781\n",
            "Epoch 200/256\n",
            "10/10 [==============================] - 0s 2ms/step - loss: 0.0942 - accuracy: 0.9781\n",
            "Epoch 201/256\n",
            "10/10 [==============================] - 0s 2ms/step - loss: 0.0932 - accuracy: 0.9781\n",
            "Epoch 202/256\n",
            "10/10 [==============================] - 0s 2ms/step - loss: 0.0937 - accuracy: 0.9812\n",
            "Epoch 203/256\n",
            "10/10 [==============================] - 0s 2ms/step - loss: 0.0925 - accuracy: 0.9781\n",
            "Epoch 204/256\n",
            "10/10 [==============================] - 0s 2ms/step - loss: 0.0917 - accuracy: 0.9812\n",
            "Epoch 205/256\n",
            "10/10 [==============================] - 0s 3ms/step - loss: 0.0919 - accuracy: 0.9781\n",
            "Epoch 206/256\n",
            "10/10 [==============================] - 0s 2ms/step - loss: 0.0922 - accuracy: 0.9781\n",
            "Epoch 207/256\n",
            "10/10 [==============================] - 0s 2ms/step - loss: 0.0907 - accuracy: 0.9781\n",
            "Epoch 208/256\n",
            "10/10 [==============================] - 0s 2ms/step - loss: 0.0905 - accuracy: 0.9781\n",
            "Epoch 209/256\n",
            "10/10 [==============================] - 0s 2ms/step - loss: 0.0900 - accuracy: 0.9781\n",
            "Epoch 210/256\n",
            "10/10 [==============================] - 0s 2ms/step - loss: 0.0895 - accuracy: 0.9781\n",
            "Epoch 211/256\n",
            "10/10 [==============================] - 0s 2ms/step - loss: 0.0899 - accuracy: 0.9781\n",
            "Epoch 212/256\n",
            "10/10 [==============================] - 0s 2ms/step - loss: 0.0887 - accuracy: 0.9781\n",
            "Epoch 213/256\n",
            "10/10 [==============================] - 0s 2ms/step - loss: 0.0887 - accuracy: 0.9812\n",
            "Epoch 214/256\n",
            "10/10 [==============================] - 0s 2ms/step - loss: 0.0882 - accuracy: 0.9781\n",
            "Epoch 215/256\n",
            "10/10 [==============================] - 0s 2ms/step - loss: 0.0875 - accuracy: 0.9781\n",
            "Epoch 216/256\n",
            "10/10 [==============================] - 0s 2ms/step - loss: 0.0874 - accuracy: 0.9781\n",
            "Epoch 217/256\n",
            "10/10 [==============================] - 0s 2ms/step - loss: 0.0869 - accuracy: 0.9781\n",
            "Epoch 218/256\n",
            "10/10 [==============================] - 0s 2ms/step - loss: 0.0866 - accuracy: 0.9781\n",
            "Epoch 219/256\n",
            "10/10 [==============================] - 0s 3ms/step - loss: 0.0857 - accuracy: 0.9781\n",
            "Epoch 220/256\n",
            "10/10 [==============================] - 0s 2ms/step - loss: 0.0867 - accuracy: 0.9781\n",
            "Epoch 221/256\n",
            "10/10 [==============================] - 0s 3ms/step - loss: 0.0856 - accuracy: 0.9781\n",
            "Epoch 222/256\n",
            "10/10 [==============================] - 0s 2ms/step - loss: 0.0847 - accuracy: 0.9781\n",
            "Epoch 223/256\n",
            "10/10 [==============================] - 0s 2ms/step - loss: 0.0852 - accuracy: 0.9781\n",
            "Epoch 224/256\n",
            "10/10 [==============================] - 0s 2ms/step - loss: 0.0841 - accuracy: 0.9781\n",
            "Epoch 225/256\n",
            "10/10 [==============================] - 0s 2ms/step - loss: 0.0840 - accuracy: 0.9781\n",
            "Epoch 226/256\n",
            "10/10 [==============================] - 0s 2ms/step - loss: 0.0835 - accuracy: 0.9781\n",
            "Epoch 227/256\n",
            "10/10 [==============================] - 0s 2ms/step - loss: 0.0831 - accuracy: 0.9781\n",
            "Epoch 228/256\n",
            "10/10 [==============================] - 0s 2ms/step - loss: 0.0828 - accuracy: 0.9781\n",
            "Epoch 229/256\n",
            "10/10 [==============================] - 0s 3ms/step - loss: 0.0822 - accuracy: 0.9812\n",
            "Epoch 230/256\n",
            "10/10 [==============================] - 0s 2ms/step - loss: 0.0820 - accuracy: 0.9812\n",
            "Epoch 231/256\n",
            "10/10 [==============================] - 0s 2ms/step - loss: 0.0818 - accuracy: 0.9812\n",
            "Epoch 232/256\n",
            "10/10 [==============================] - 0s 2ms/step - loss: 0.0810 - accuracy: 0.9781\n",
            "Epoch 233/256\n",
            "10/10 [==============================] - 0s 2ms/step - loss: 0.0812 - accuracy: 0.9781\n",
            "Epoch 234/256\n",
            "10/10 [==============================] - 0s 2ms/step - loss: 0.0805 - accuracy: 0.9781\n",
            "Epoch 235/256\n",
            "10/10 [==============================] - 0s 2ms/step - loss: 0.0802 - accuracy: 0.9781\n",
            "Epoch 236/256\n",
            "10/10 [==============================] - 0s 2ms/step - loss: 0.0803 - accuracy: 0.9781\n",
            "Epoch 237/256\n",
            "10/10 [==============================] - 0s 2ms/step - loss: 0.0793 - accuracy: 0.9781\n",
            "Epoch 238/256\n",
            "10/10 [==============================] - 0s 2ms/step - loss: 0.0794 - accuracy: 0.9812\n",
            "Epoch 239/256\n",
            "10/10 [==============================] - 0s 2ms/step - loss: 0.0792 - accuracy: 0.9781\n",
            "Epoch 240/256\n",
            "10/10 [==============================] - 0s 2ms/step - loss: 0.0788 - accuracy: 0.9781\n",
            "Epoch 241/256\n",
            "10/10 [==============================] - 0s 2ms/step - loss: 0.0782 - accuracy: 0.9781\n",
            "Epoch 242/256\n",
            "10/10 [==============================] - 0s 2ms/step - loss: 0.0776 - accuracy: 0.9812\n",
            "Epoch 243/256\n",
            "10/10 [==============================] - 0s 2ms/step - loss: 0.0772 - accuracy: 0.9812\n",
            "Epoch 244/256\n",
            "10/10 [==============================] - 0s 2ms/step - loss: 0.0770 - accuracy: 0.9812\n",
            "Epoch 245/256\n",
            "10/10 [==============================] - 0s 2ms/step - loss: 0.0773 - accuracy: 0.9812\n",
            "Epoch 246/256\n",
            "10/10 [==============================] - 0s 2ms/step - loss: 0.0769 - accuracy: 0.9781\n",
            "Epoch 247/256\n",
            "10/10 [==============================] - 0s 2ms/step - loss: 0.0761 - accuracy: 0.9781\n",
            "Epoch 248/256\n",
            "10/10 [==============================] - 0s 3ms/step - loss: 0.0763 - accuracy: 0.9781\n",
            "Epoch 249/256\n",
            "10/10 [==============================] - 0s 2ms/step - loss: 0.0756 - accuracy: 0.9812\n",
            "Epoch 250/256\n",
            "10/10 [==============================] - 0s 2ms/step - loss: 0.0751 - accuracy: 0.9812\n",
            "Epoch 251/256\n",
            "10/10 [==============================] - 0s 2ms/step - loss: 0.0756 - accuracy: 0.9781\n",
            "Epoch 252/256\n",
            "10/10 [==============================] - 0s 3ms/step - loss: 0.0740 - accuracy: 0.9812\n",
            "Epoch 253/256\n",
            "10/10 [==============================] - 0s 2ms/step - loss: 0.0741 - accuracy: 0.9812\n",
            "Epoch 254/256\n",
            "10/10 [==============================] - 0s 2ms/step - loss: 0.0740 - accuracy: 0.9844\n",
            "Epoch 255/256\n",
            "10/10 [==============================] - 0s 2ms/step - loss: 0.0736 - accuracy: 0.9812\n",
            "Epoch 256/256\n",
            "10/10 [==============================] - 0s 2ms/step - loss: 0.0732 - accuracy: 0.9781\n"
          ]
        },
        {
          "output_type": "execute_result",
          "data": {
            "text/plain": [
              "<keras.callbacks.History at 0x7f6a50d86f50>"
            ]
          },
          "metadata": {},
          "execution_count": 36
        }
      ]
    },
    {
      "cell_type": "code",
      "source": [
        "prediction = model.predict(test_X)"
      ],
      "metadata": {
        "id": "8fhiudn09uYn"
      },
      "execution_count": null,
      "outputs": []
    },
    {
      "cell_type": "code",
      "source": [
        "# Less than 0.5, No. More than 0.5, Yes.\n",
        "print(prediction[:5])"
      ],
      "metadata": {
        "id": "ro6EYrnC91AX",
        "colab": {
          "base_uri": "https://localhost:8080/"
        },
        "outputId": "e4093f37-ebef-4b93-eaf9-225270514785"
      },
      "execution_count": null,
      "outputs": [
        {
          "output_type": "stream",
          "name": "stdout",
          "text": [
            "[[0.16]\n",
            " [0.18]\n",
            " [0.33]\n",
            " [0.16]\n",
            " [0.37]]\n"
          ]
        }
      ]
    },
    {
      "cell_type": "code",
      "source": [
        "print(test_Y[:5])"
      ],
      "metadata": {
        "id": "mOjf1yL8-Fqq",
        "colab": {
          "base_uri": "https://localhost:8080/"
        },
        "outputId": "165b39ec-61a6-4e4c-fc25-8d5086f58e5d"
      },
      "execution_count": null,
      "outputs": [
        {
          "output_type": "stream",
          "name": "stdout",
          "text": [
            "[0.00 0.00 0.00 0.00 0.00]\n"
          ]
        }
      ]
    },
    {
      "cell_type": "code",
      "source": [
        "from sklearn.metrics import accuracy_score"
      ],
      "metadata": {
        "id": "JckjMewLAJXS"
      },
      "execution_count": null,
      "outputs": []
    },
    {
      "cell_type": "code",
      "source": [
        "accuracy = accuracy_score(test_Y,prediction.round()) "
      ],
      "metadata": {
        "id": "feU-xqLiAYht"
      },
      "execution_count": null,
      "outputs": []
    },
    {
      "cell_type": "code",
      "source": [
        "print(accuracy)"
      ],
      "metadata": {
        "id": "Fk_xebU-AesW",
        "colab": {
          "base_uri": "https://localhost:8080/"
        },
        "outputId": "8c8d1bcf-20c7-4276-b396-36e74021476b"
      },
      "execution_count": null,
      "outputs": [
        {
          "output_type": "stream",
          "name": "stdout",
          "text": [
            "1.0\n"
          ]
        }
      ]
    }
  ]
}